{
 "cells": [
  {
   "cell_type": "markdown",
   "id": "bef22e08",
   "metadata": {},
   "source": [
    "# Überblick "
   ]
  },
  {
   "cell_type": "code",
   "execution_count": 1,
   "id": "1f80d183",
   "metadata": {},
   "outputs": [
    {
     "name": "stdout",
     "output_type": "stream",
     "text": [
      "(5732, 9) (5696, 1)\n",
      "(36, 9)\n",
      "(5732, 9) (5732, 1)\n",
      "0\n"
     ]
    }
   ],
   "source": [
    "import numpy as np\n",
    "import tensorflow as tf\n",
    "import pandas as pd\n",
    "import matplotlib.pyplot as plt\n",
    "import sklearn\n",
    "import keras_tuner as kt\n",
    "\n",
    "from numpy import array\n",
    "from numpy import hstack\n",
    "from numpy import empty\n",
    "from tensorflow import keras\n",
    "from tensorflow.keras.models import Sequential\n",
    "from tensorflow.keras.layers import LSTM\n",
    "from tensorflow.keras.layers import Dense\n",
    "from tensorflow.keras.layers import Flatten\n",
    "from tensorflow.keras.layers import Dropout\n",
    "from sklearn.preprocessing import MinMaxScaler\n",
    "from sklearn.metrics import mean_absolute_error\n",
    "from sklearn.metrics import mean_squared_error\n",
    "from os import chdir\n",
    "from os import getcwd\n",
    "from os import listdir\n",
    "import math\n",
    "\n",
    "csv_file_path = 'D:/Arbeit PhD/Fachlich/z_Sonstiges/Groundwater challenge/data/Netherlands'\n",
    "chdir(csv_file_path)\n",
    "\n",
    "Y_all = pd.read_csv('heads.csv',decimal='.',index_col=0, delimiter=',', header=0,parse_dates=True)\n",
    "X_all = pd.read_csv('input_data.csv',decimal='.', delimiter=',',index_col=0, header=0,parse_dates=True)\n",
    "\n",
    "Y_temp = Y_all['2000-01-01' : '2015-09-10']\n",
    "X = X_all['2000-01-01' : '2015-09-10']\n",
    "print(X.shape, Y_temp.shape)\n",
    "\n",
    "# interpolate\n",
    "print(X[~(X.index.isin(Y_temp.index))].shape)\n",
    "Y = Y_temp.reindex(pd.date_range(start=Y_temp.index.min(),end=Y_temp.index.max(),freq='1D')) \n",
    "Y.interpolate(method='linear', inplace=True)  \n",
    "print(X.shape, Y.shape)\n",
    "print(Y.isna().sum().sum())"
   ]
  },
  {
   "cell_type": "code",
   "execution_count": 2,
   "id": "2fcce1cc",
   "metadata": {},
   "outputs": [],
   "source": [
    "X_train = X[:'2011-12-31']\n",
    "X_test = X['2014-01-01':]\n",
    "X_valid = X['2012-01-01':'2013-12-31']\n",
    "\n",
    "Y_train = Y[:'2011-12-31']\n",
    "Y_test = Y['2014-01-01':]\n",
    "Y_valid = Y['2012-01-01':'2013-12-31']\n",
    "\n",
    "\n",
    "csv_file_path = 'D:\\Arbeit PhD\\Fachlich\\z_Sonstiges\\Groundwater challenge\\data'\n",
    "chdir(csv_file_path)\n",
    "from helper import *\n",
    "\n",
    "(dataset_train,dataset_test,dataset_valid,scaler_X,scaler_Y)=prepare_data(X_train,Y_train,X_valid,Y_valid,X_test,Y_test)\n",
    "\n",
    "x_final_unsplit = scaler_X.transform(X)\n",
    "y_final_unsplit = scaler_Y.transform(Y)\n",
    "dataset_train = np.concatenate((x_final_unsplit,y_final_unsplit), axis=1)\n",
    " \n",
    "iters=3\n",
    "n_steps_in=30\n",
    "n_steps_out=1\n",
    "\n",
    "x_final, y_final = split_sequences_y1(dataset_train, n_steps_in, n_steps_out)"
   ]
  },
  {
   "cell_type": "code",
   "execution_count": 3,
   "id": "65fc2b90",
   "metadata": {},
   "outputs": [],
   "source": [
    "import keras_tuner as kt\n",
    "from tensorflow.keras.layers import Dropout\n",
    "from tensorflow.keras import backend as K\n",
    "class Dropout(keras.layers.Dropout):\n",
    "    def __init__(self, rate, training=None, noise_shape=None, seed=None, **kwargs):\n",
    "        super(Dropout, self).__init__(rate, noise_shape=None, seed=None,**kwargs)\n",
    "        self.training = training\n",
    "\n",
    "        \n",
    "    def call(self, inputs, training=None):\n",
    "        if 0. < self.rate < 1.:\n",
    "            noise_shape = self._get_noise_shape(inputs)\n",
    "\n",
    "            def dropped_inputs():\n",
    "                return K.dropout(inputs, self.rate, noise_shape,\n",
    "                                 seed=self.seed)\n",
    "            if not training: \n",
    "                return K.in_train_phase(dropped_inputs, inputs, training=self.training)\n",
    "            return K.in_train_phase(dropped_inputs, inputs, training=training)\n",
    "        return inputs"
   ]
  },
  {
   "cell_type": "code",
   "execution_count": 4,
   "id": "b3ebe1e6",
   "metadata": {},
   "outputs": [
    {
     "name": "stdout",
     "output_type": "stream",
     "text": [
      "WARNING:tensorflow:Error in loading the saved optimizer state. As a result, your model is starting with a freshly initialized optimizer.\n",
      "Model: \"model\"\n",
      "__________________________________________________________________________________________________\n",
      "Layer (type)                    Output Shape         Param #     Connected to                     \n",
      "==================================================================================================\n",
      "input_1 (InputLayer)            [(None, 30, 9)]      0                                            \n",
      "__________________________________________________________________________________________________\n",
      "layer_normalization (LayerNorma (None, 30, 9)        18          input_1[0][0]                    \n",
      "__________________________________________________________________________________________________\n",
      "multi_head_attention (MultiHead (None, 30, 9)        2427        layer_normalization[0][0]        \n",
      "                                                                 layer_normalization[0][0]        \n",
      "__________________________________________________________________________________________________\n",
      "dropout (Dropout)               (None, 30, 9)        0           multi_head_attention[0][0]       \n",
      "__________________________________________________________________________________________________\n",
      "tf.__operators__.add (TFOpLambd (None, 30, 9)        0           dropout[0][0]                    \n",
      "                                                                 input_1[0][0]                    \n",
      "__________________________________________________________________________________________________\n",
      "layer_normalization_1 (LayerNor (None, 30, 9)        18          tf.__operators__.add[0][0]       \n",
      "__________________________________________________________________________________________________\n",
      "conv1d (Conv1D)                 (None, 30, 2)        20          layer_normalization_1[0][0]      \n",
      "__________________________________________________________________________________________________\n",
      "dropout_1 (Dropout)             (None, 30, 2)        0           conv1d[0][0]                     \n",
      "__________________________________________________________________________________________________\n",
      "conv1d_1 (Conv1D)               (None, 30, 9)        27          dropout_1[0][0]                  \n",
      "__________________________________________________________________________________________________\n",
      "tf.__operators__.add_1 (TFOpLam (None, 30, 9)        0           conv1d_1[0][0]                   \n",
      "                                                                 tf.__operators__.add[0][0]       \n",
      "__________________________________________________________________________________________________\n",
      "layer_normalization_2 (LayerNor (None, 30, 9)        18          tf.__operators__.add_1[0][0]     \n",
      "__________________________________________________________________________________________________\n",
      "multi_head_attention_1 (MultiHe (None, 30, 9)        2427        layer_normalization_2[0][0]      \n",
      "                                                                 layer_normalization_2[0][0]      \n",
      "__________________________________________________________________________________________________\n",
      "dropout_2 (Dropout)             (None, 30, 9)        0           multi_head_attention_1[0][0]     \n",
      "__________________________________________________________________________________________________\n",
      "tf.__operators__.add_2 (TFOpLam (None, 30, 9)        0           dropout_2[0][0]                  \n",
      "                                                                 tf.__operators__.add_1[0][0]     \n",
      "__________________________________________________________________________________________________\n",
      "layer_normalization_3 (LayerNor (None, 30, 9)        18          tf.__operators__.add_2[0][0]     \n",
      "__________________________________________________________________________________________________\n",
      "conv1d_2 (Conv1D)               (None, 30, 2)        20          layer_normalization_3[0][0]      \n",
      "__________________________________________________________________________________________________\n",
      "dropout_3 (Dropout)             (None, 30, 2)        0           conv1d_2[0][0]                   \n",
      "__________________________________________________________________________________________________\n",
      "conv1d_3 (Conv1D)               (None, 30, 9)        27          dropout_3[0][0]                  \n",
      "__________________________________________________________________________________________________\n",
      "tf.__operators__.add_3 (TFOpLam (None, 30, 9)        0           conv1d_3[0][0]                   \n",
      "                                                                 tf.__operators__.add_2[0][0]     \n",
      "__________________________________________________________________________________________________\n",
      "global_average_pooling1d (Globa (None, 30)           0           tf.__operators__.add_3[0][0]     \n",
      "__________________________________________________________________________________________________\n",
      "dense (Dense)                   (None, 180)          5580        global_average_pooling1d[0][0]   \n",
      "__________________________________________________________________________________________________\n",
      "dropout_4 (Dropout)             (None, 180)          0           dense[0][0]                      \n",
      "__________________________________________________________________________________________________\n",
      "dense_1 (Dense)                 (None, 1)            181         dropout_4[0][0]                  \n",
      "==================================================================================================\n",
      "Total params: 10,781\n",
      "Trainable params: 10,781\n",
      "Non-trainable params: 0\n",
      "__________________________________________________________________________________________________\n"
     ]
    }
   ],
   "source": [
    "test_runs = 100\n",
    "    \n",
    "#load models \n",
    "csv_file_path = 'D:\\Arbeit PhD\\Fachlich\\z_Sonstiges\\Groundwater challenge'\n",
    "chdir(csv_file_path)\n",
    "\n",
    "transformer_model = keras.models.load_model('TF_Netherlands_tune.h5')\n",
    "transformer_model.summary()"
   ]
  },
  {
   "cell_type": "markdown",
   "id": "f2a3bf0a",
   "metadata": {},
   "source": [
    "## Prediction Transformer"
   ]
  },
  {
   "cell_type": "code",
   "execution_count": 5,
   "id": "f2b33ebc",
   "metadata": {},
   "outputs": [
    {
     "name": "stdout",
     "output_type": "stream",
     "text": [
      "(5703, 30, 9)\n"
     ]
    }
   ],
   "source": [
    "print(x_final.shape)\n",
    "Y_pred_test_tr = np.empty((x_final.shape[0],n_steps_out,test_runs))\n",
    "y_correct_utf = scaler_Y.inverse_transform(y_final)#test\n",
    "for j in range(test_runs): \n",
    "    Y_pred_test_tr[:,:,j]=transformer_model.predict(x_final)\n",
    "    yhat_utf = scaler_Y.inverse_transform(Y_pred_test_tr[:,:,j])#test\n"
   ]
  },
  {
   "cell_type": "code",
   "execution_count": 6,
   "id": "3fde0806",
   "metadata": {},
   "outputs": [
    {
     "name": "stdout",
     "output_type": "stream",
     "text": [
      "(5703, 1, 100)\n",
      "[[0.04015109]\n",
      " [0.03817833]\n",
      " [0.03646655]\n",
      " ...\n",
      " [0.03814564]\n",
      " [0.03475673]\n",
      " [0.0372969 ]]\n"
     ]
    },
    {
     "data": {
      "text/plain": [
       "(5703, 1, 100)"
      ]
     },
     "execution_count": 6,
     "metadata": {},
     "output_type": "execute_result"
    }
   ],
   "source": [
    "print(Y_pred_test_tr.shape)\n",
    "Y_pred = np.mean(Y_pred_test_tr, axis=2)\n",
    "Y_std = np.std(Y_pred_test_tr, axis=2)\n",
    "print(Y_std)\n",
    "Y_pred_test_tr.shape"
   ]
  },
  {
   "attachments": {},
   "cell_type": "markdown",
   "id": "115e1413",
   "metadata": {},
   "source": [
    "## POC"
   ]
  },
  {
   "cell_type": "code",
   "execution_count": 7,
   "id": "c54998ae",
   "metadata": {},
   "outputs": [
    {
     "name": "stdout",
     "output_type": "stream",
     "text": [
      "(5703, 1)\n",
      "0.9938628791863932\n"
     ]
    }
   ],
   "source": [
    "zT = 13.5\n",
    "T_ival = [Y_pred - zT*Y_std,Y_pred + zT*Y_std]\n",
    "def calc_POC(list_of_bounds, measured):\n",
    "    temp = 0 \n",
    "    for i in range(len(measured)):\n",
    "        if measured[i]< list_of_bounds[1][i] and measured[i]> list_of_bounds[0][i]:\n",
    "            temp = temp + 1\n",
    "    POC = temp/len(measured)\n",
    "    return POC\n",
    "\n",
    "print(T_ival[1].shape)\n",
    "POC_tr = calc_POC(T_ival,y_final)\n",
    "print(POC_tr)"
   ]
  },
  {
   "cell_type": "code",
   "execution_count": 8,
   "id": "b38e0342",
   "metadata": {},
   "outputs": [
    {
     "name": "stdout",
     "output_type": "stream",
     "text": [
      "(5703, 1, 100)\n"
     ]
    },
    {
     "data": {
      "text/plain": [
       "array([[11.75403629],\n",
       "       [11.73346916],\n",
       "       [11.71640189],\n",
       "       ...,\n",
       "       [11.7726963 ],\n",
       "       [11.72625692],\n",
       "       [11.75186017]])"
      ]
     },
     "execution_count": 8,
     "metadata": {},
     "output_type": "execute_result"
    }
   ],
   "source": [
    "print(Y_pred_test_tr.shape)\n",
    "Y_pred_test_tr_flat = Y_pred_test_tr.reshape((test_runs*Y_pred_test_tr.shape[0], 1))\n",
    "Y_pred_test_utf_flat = scaler_Y.inverse_transform(Y_pred_test_tr_flat)\n",
    "Y_pred_test_utf = Y_pred_test_utf_flat.reshape((Y_pred_test_tr.shape[0], 1,test_runs))\n",
    "Y_pred_calib = np.mean(Y_pred_test_utf, axis=2)\n",
    "Y_std_calib = np.std(Y_pred_test_utf, axis=2)\n",
    "T_ival_calib = [Y_pred_calib - zT*Y_std_calib,Y_pred_calib + zT*Y_std_calib]\n",
    "T_ival_calib[1]"
   ]
  },
  {
   "cell_type": "code",
   "execution_count": 9,
   "id": "471b9bfe",
   "metadata": {},
   "outputs": [
    {
     "data": {
      "text/html": [
       "<div>\n",
       "<style scoped>\n",
       "    .dataframe tbody tr th:only-of-type {\n",
       "        vertical-align: middle;\n",
       "    }\n",
       "\n",
       "    .dataframe tbody tr th {\n",
       "        vertical-align: top;\n",
       "    }\n",
       "\n",
       "    .dataframe thead th {\n",
       "        text-align: right;\n",
       "    }\n",
       "</style>\n",
       "<table border=\"1\" class=\"dataframe\">\n",
       "  <thead>\n",
       "    <tr style=\"text-align: right;\">\n",
       "      <th></th>\n",
       "      <th>rr</th>\n",
       "      <th>tg</th>\n",
       "      <th>tn</th>\n",
       "      <th>tx</th>\n",
       "      <th>pp</th>\n",
       "      <th>hu</th>\n",
       "      <th>fg</th>\n",
       "      <th>qq</th>\n",
       "      <th>et</th>\n",
       "    </tr>\n",
       "    <tr>\n",
       "      <th>time</th>\n",
       "      <th></th>\n",
       "      <th></th>\n",
       "      <th></th>\n",
       "      <th></th>\n",
       "      <th></th>\n",
       "      <th></th>\n",
       "      <th></th>\n",
       "      <th></th>\n",
       "      <th></th>\n",
       "    </tr>\n",
       "  </thead>\n",
       "  <tbody>\n",
       "    <tr>\n",
       "      <th>2016-01-01</th>\n",
       "      <td>0.0</td>\n",
       "      <td>4.700000</td>\n",
       "      <td>1.42</td>\n",
       "      <td>8.44</td>\n",
       "      <td>1022.70000</td>\n",
       "      <td>91.650000</td>\n",
       "      <td>2.96</td>\n",
       "      <td>22.0</td>\n",
       "      <td>0.232114</td>\n",
       "    </tr>\n",
       "    <tr>\n",
       "      <th>2016-01-02</th>\n",
       "      <td>2.3</td>\n",
       "      <td>3.050000</td>\n",
       "      <td>1.81</td>\n",
       "      <td>4.12</td>\n",
       "      <td>1012.00000</td>\n",
       "      <td>89.743750</td>\n",
       "      <td>6.32</td>\n",
       "      <td>13.0</td>\n",
       "      <td>0.130259</td>\n",
       "    </tr>\n",
       "    <tr>\n",
       "      <th>2016-01-03</th>\n",
       "      <td>4.2</td>\n",
       "      <td>0.800000</td>\n",
       "      <td>-0.52</td>\n",
       "      <td>1.96</td>\n",
       "      <td>1002.00000</td>\n",
       "      <td>93.418180</td>\n",
       "      <td>6.54</td>\n",
       "      <td>14.0</td>\n",
       "      <td>0.129784</td>\n",
       "    </tr>\n",
       "    <tr>\n",
       "      <th>2016-01-04</th>\n",
       "      <td>4.3</td>\n",
       "      <td>-2.590000</td>\n",
       "      <td>-3.43</td>\n",
       "      <td>0.99</td>\n",
       "      <td>990.80000</td>\n",
       "      <td>91.125000</td>\n",
       "      <td>5.77</td>\n",
       "      <td>12.0</td>\n",
       "      <td>0.097585</td>\n",
       "    </tr>\n",
       "    <tr>\n",
       "      <th>2016-01-05</th>\n",
       "      <td>0.0</td>\n",
       "      <td>-2.180000</td>\n",
       "      <td>-3.49</td>\n",
       "      <td>-1.25</td>\n",
       "      <td>994.20000</td>\n",
       "      <td>92.715385</td>\n",
       "      <td>5.16</td>\n",
       "      <td>10.0</td>\n",
       "      <td>0.082576</td>\n",
       "    </tr>\n",
       "    <tr>\n",
       "      <th>...</th>\n",
       "      <td>...</td>\n",
       "      <td>...</td>\n",
       "      <td>...</td>\n",
       "      <td>...</td>\n",
       "      <td>...</td>\n",
       "      <td>...</td>\n",
       "      <td>...</td>\n",
       "      <td>...</td>\n",
       "      <td>...</td>\n",
       "    </tr>\n",
       "    <tr>\n",
       "      <th>2021-12-27</th>\n",
       "      <td>0.0</td>\n",
       "      <td>2.110000</td>\n",
       "      <td>-0.07</td>\n",
       "      <td>5.08</td>\n",
       "      <td>998.70000</td>\n",
       "      <td>92.220000</td>\n",
       "      <td>3.13</td>\n",
       "      <td>20.0</td>\n",
       "      <td>0.195135</td>\n",
       "    </tr>\n",
       "    <tr>\n",
       "      <th>2021-12-28</th>\n",
       "      <td>5.5</td>\n",
       "      <td>6.610000</td>\n",
       "      <td>3.88</td>\n",
       "      <td>7.97</td>\n",
       "      <td>990.40000</td>\n",
       "      <td>93.700005</td>\n",
       "      <td>3.36</td>\n",
       "      <td>23.0</td>\n",
       "      <td>0.262438</td>\n",
       "    </tr>\n",
       "    <tr>\n",
       "      <th>2021-12-29</th>\n",
       "      <td>4.0</td>\n",
       "      <td>7.030000</td>\n",
       "      <td>5.49</td>\n",
       "      <td>10.78</td>\n",
       "      <td>1001.30000</td>\n",
       "      <td>93.700005</td>\n",
       "      <td>2.99</td>\n",
       "      <td>21.0</td>\n",
       "      <td>0.241433</td>\n",
       "    </tr>\n",
       "    <tr>\n",
       "      <th>2021-12-30</th>\n",
       "      <td>4.4</td>\n",
       "      <td>11.370000</td>\n",
       "      <td>9.20</td>\n",
       "      <td>13.02</td>\n",
       "      <td>1013.10004</td>\n",
       "      <td>92.500010</td>\n",
       "      <td>3.85</td>\n",
       "      <td>18.0</td>\n",
       "      <td>0.232722</td>\n",
       "    </tr>\n",
       "    <tr>\n",
       "      <th>2021-12-31</th>\n",
       "      <td>9.1</td>\n",
       "      <td>12.799999</td>\n",
       "      <td>11.41</td>\n",
       "      <td>12.79</td>\n",
       "      <td>1018.40000</td>\n",
       "      <td>86.878950</td>\n",
       "      <td>3.85</td>\n",
       "      <td>21.0</td>\n",
       "      <td>0.280901</td>\n",
       "    </tr>\n",
       "  </tbody>\n",
       "</table>\n",
       "<p>2192 rows × 9 columns</p>\n",
       "</div>"
      ],
      "text/plain": [
       "             rr         tg     tn     tx          pp         hu    fg    qq  \\\n",
       "time                                                                          \n",
       "2016-01-01  0.0   4.700000   1.42   8.44  1022.70000  91.650000  2.96  22.0   \n",
       "2016-01-02  2.3   3.050000   1.81   4.12  1012.00000  89.743750  6.32  13.0   \n",
       "2016-01-03  4.2   0.800000  -0.52   1.96  1002.00000  93.418180  6.54  14.0   \n",
       "2016-01-04  4.3  -2.590000  -3.43   0.99   990.80000  91.125000  5.77  12.0   \n",
       "2016-01-05  0.0  -2.180000  -3.49  -1.25   994.20000  92.715385  5.16  10.0   \n",
       "...         ...        ...    ...    ...         ...        ...   ...   ...   \n",
       "2021-12-27  0.0   2.110000  -0.07   5.08   998.70000  92.220000  3.13  20.0   \n",
       "2021-12-28  5.5   6.610000   3.88   7.97   990.40000  93.700005  3.36  23.0   \n",
       "2021-12-29  4.0   7.030000   5.49  10.78  1001.30000  93.700005  2.99  21.0   \n",
       "2021-12-30  4.4  11.370000   9.20  13.02  1013.10004  92.500010  3.85  18.0   \n",
       "2021-12-31  9.1  12.799999  11.41  12.79  1018.40000  86.878950  3.85  21.0   \n",
       "\n",
       "                  et  \n",
       "time                  \n",
       "2016-01-01  0.232114  \n",
       "2016-01-02  0.130259  \n",
       "2016-01-03  0.129784  \n",
       "2016-01-04  0.097585  \n",
       "2016-01-05  0.082576  \n",
       "...              ...  \n",
       "2021-12-27  0.195135  \n",
       "2021-12-28  0.262438  \n",
       "2021-12-29  0.241433  \n",
       "2021-12-30  0.232722  \n",
       "2021-12-31  0.280901  \n",
       "\n",
       "[2192 rows x 9 columns]"
      ]
     },
     "execution_count": 9,
     "metadata": {},
     "output_type": "execute_result"
    }
   ],
   "source": [
    "csv_file_path = 'D:/Arbeit PhD/Fachlich/z_Sonstiges/Groundwater challenge/data/Netherlands'\n",
    "chdir(csv_file_path)\n",
    "\n",
    "X_all = pd.read_csv('input_data.csv',decimal='.',index_col='time', delimiter=',', header=0,parse_dates=True)\n",
    "\n",
    "X_finaltest = X_all['2016-01-01':]\n",
    "X_finaltest"
   ]
  },
  {
   "cell_type": "code",
   "execution_count": 10,
   "id": "857ef5c0",
   "metadata": {},
   "outputs": [
    {
     "data": {
      "text/plain": [
       "(2163, 30, 9)"
      ]
     },
     "execution_count": 10,
     "metadata": {},
     "output_type": "execute_result"
    }
   ],
   "source": [
    "X_finaltest_trf = scaler_X.transform(X_finaltest)\n",
    "X_ftest = split_sequences_test(X_finaltest_trf,n_steps_in, n_steps_out)\n",
    "X_ftest.shape"
   ]
  },
  {
   "cell_type": "code",
   "execution_count": 11,
   "id": "fd03cb35",
   "metadata": {},
   "outputs": [
    {
     "name": "stdout",
     "output_type": "stream",
     "text": [
      "(5703, 30, 9)\n"
     ]
    }
   ],
   "source": [
    "print(x_final.shape)\n",
    "Y_pred_ftest_tr = np.empty((X_ftest.shape[0],n_steps_out,test_runs))\n",
    "for j in range(test_runs): \n",
    "    Y_pred_ftest_tr[:,:,j]=transformer_model.predict(X_ftest)"
   ]
  },
  {
   "cell_type": "code",
   "execution_count": 12,
   "id": "992f5c01",
   "metadata": {},
   "outputs": [
    {
     "data": {
      "text/plain": [
       "(2163, 1)"
      ]
     },
     "execution_count": 12,
     "metadata": {},
     "output_type": "execute_result"
    }
   ],
   "source": [
    "Y_pred_ftest_tr_flat = Y_pred_ftest_tr.reshape((100*Y_pred_ftest_tr.shape[0], 1))\n",
    "Y_pred_ftest_utf_flat = scaler_Y.inverse_transform(Y_pred_ftest_tr_flat)\n",
    "Y_pred_ftest_utf = Y_pred_ftest_utf_flat.reshape((Y_pred_ftest_tr.shape[0], 1,100))\n",
    "\n",
    "yhat_mean = np.mean(Y_pred_ftest_utf, axis=2)\n",
    "yhat_std = np.std(Y_pred_ftest_utf, axis=2)\n",
    "T_ival_utf = [yhat_mean - zT*yhat_std,yhat_mean + zT*yhat_std]\n",
    "yhat_mean.shape"
   ]
  },
  {
   "cell_type": "code",
   "execution_count": 13,
   "id": "0131cdb0",
   "metadata": {},
   "outputs": [
    {
     "data": {
      "text/plain": [
       "(2163, 0)"
      ]
     },
     "execution_count": 13,
     "metadata": {},
     "output_type": "execute_result"
    }
   ],
   "source": [
    "final_idx_calib = pd.date_range(start='2000-01-30', end='2015-09-10')\n",
    "final_idx_test = pd.date_range(start='2016-01-30', end='2021-12-31')\n",
    "final_df_calib = pd.DataFrame(index=final_idx_calib)\n",
    "final_df_test = pd.DataFrame(index=final_idx_test)\n",
    "final_df_test.shape"
   ]
  },
  {
   "cell_type": "code",
   "execution_count": 14,
   "id": "6cd94591",
   "metadata": {},
   "outputs": [
    {
     "name": "stdout",
     "output_type": "stream",
     "text": [
      "(5703, 1)\n"
     ]
    },
    {
     "data": {
      "text/html": [
       "<div>\n",
       "<style scoped>\n",
       "    .dataframe tbody tr th:only-of-type {\n",
       "        vertical-align: middle;\n",
       "    }\n",
       "\n",
       "    .dataframe tbody tr th {\n",
       "        vertical-align: top;\n",
       "    }\n",
       "\n",
       "    .dataframe thead th {\n",
       "        text-align: right;\n",
       "    }\n",
       "</style>\n",
       "<table border=\"1\" class=\"dataframe\">\n",
       "  <thead>\n",
       "    <tr style=\"text-align: right;\">\n",
       "      <th></th>\n",
       "      <th>head forecast</th>\n",
       "      <th>95% lower</th>\n",
       "      <th>95% upper</th>\n",
       "    </tr>\n",
       "  </thead>\n",
       "  <tbody>\n",
       "    <tr>\n",
       "      <th>2000-01-30</th>\n",
       "      <td>11.314984</td>\n",
       "      <td>10.875932</td>\n",
       "      <td>11.754036</td>\n",
       "    </tr>\n",
       "    <tr>\n",
       "      <th>2000-01-31</th>\n",
       "      <td>11.315989</td>\n",
       "      <td>10.898509</td>\n",
       "      <td>11.733469</td>\n",
       "    </tr>\n",
       "    <tr>\n",
       "      <th>2000-02-01</th>\n",
       "      <td>11.317640</td>\n",
       "      <td>10.918878</td>\n",
       "      <td>11.716402</td>\n",
       "    </tr>\n",
       "    <tr>\n",
       "      <th>2000-02-02</th>\n",
       "      <td>11.309486</td>\n",
       "      <td>10.920897</td>\n",
       "      <td>11.698075</td>\n",
       "    </tr>\n",
       "    <tr>\n",
       "      <th>2000-02-03</th>\n",
       "      <td>11.307523</td>\n",
       "      <td>10.870785</td>\n",
       "      <td>11.744260</td>\n",
       "    </tr>\n",
       "    <tr>\n",
       "      <th>...</th>\n",
       "      <td>...</td>\n",
       "      <td>...</td>\n",
       "      <td>...</td>\n",
       "    </tr>\n",
       "    <tr>\n",
       "      <th>2015-09-06</th>\n",
       "      <td>11.343170</td>\n",
       "      <td>10.935135</td>\n",
       "      <td>11.751206</td>\n",
       "    </tr>\n",
       "    <tr>\n",
       "      <th>2015-09-07</th>\n",
       "      <td>11.346622</td>\n",
       "      <td>10.925023</td>\n",
       "      <td>11.768220</td>\n",
       "    </tr>\n",
       "    <tr>\n",
       "      <th>2015-09-08</th>\n",
       "      <td>11.355574</td>\n",
       "      <td>10.938451</td>\n",
       "      <td>11.772696</td>\n",
       "    </tr>\n",
       "    <tr>\n",
       "      <th>2015-09-09</th>\n",
       "      <td>11.346192</td>\n",
       "      <td>10.966127</td>\n",
       "      <td>11.726257</td>\n",
       "    </tr>\n",
       "    <tr>\n",
       "      <th>2015-09-10</th>\n",
       "      <td>11.344019</td>\n",
       "      <td>10.936177</td>\n",
       "      <td>11.751860</td>\n",
       "    </tr>\n",
       "  </tbody>\n",
       "</table>\n",
       "<p>5703 rows × 3 columns</p>\n",
       "</div>"
      ],
      "text/plain": [
       "            head forecast  95% lower  95% upper\n",
       "2000-01-30      11.314984  10.875932  11.754036\n",
       "2000-01-31      11.315989  10.898509  11.733469\n",
       "2000-02-01      11.317640  10.918878  11.716402\n",
       "2000-02-02      11.309486  10.920897  11.698075\n",
       "2000-02-03      11.307523  10.870785  11.744260\n",
       "...                   ...        ...        ...\n",
       "2015-09-06      11.343170  10.935135  11.751206\n",
       "2015-09-07      11.346622  10.925023  11.768220\n",
       "2015-09-08      11.355574  10.938451  11.772696\n",
       "2015-09-09      11.346192  10.966127  11.726257\n",
       "2015-09-10      11.344019  10.936177  11.751860\n",
       "\n",
       "[5703 rows x 3 columns]"
      ]
     },
     "execution_count": 14,
     "metadata": {},
     "output_type": "execute_result"
    }
   ],
   "source": [
    "print(Y_pred.shape)\n",
    "final_df_calib['head forecast'] = Y_pred_calib\n",
    "final_df_calib['95% lower'] = T_ival_calib[0]\n",
    "final_df_calib['95% upper'] = T_ival_calib[1]\n",
    "final_df_calib"
   ]
  },
  {
   "cell_type": "code",
   "execution_count": 15,
   "id": "9bf8f98a",
   "metadata": {},
   "outputs": [
    {
     "data": {
      "text/html": [
       "<div>\n",
       "<style scoped>\n",
       "    .dataframe tbody tr th:only-of-type {\n",
       "        vertical-align: middle;\n",
       "    }\n",
       "\n",
       "    .dataframe tbody tr th {\n",
       "        vertical-align: top;\n",
       "    }\n",
       "\n",
       "    .dataframe thead th {\n",
       "        text-align: right;\n",
       "    }\n",
       "</style>\n",
       "<table border=\"1\" class=\"dataframe\">\n",
       "  <thead>\n",
       "    <tr style=\"text-align: right;\">\n",
       "      <th></th>\n",
       "      <th>head forecast</th>\n",
       "      <th>95% lower</th>\n",
       "      <th>95% upper</th>\n",
       "    </tr>\n",
       "  </thead>\n",
       "  <tbody>\n",
       "    <tr>\n",
       "      <th>2016-01-30</th>\n",
       "      <td>11.319615</td>\n",
       "      <td>10.914517</td>\n",
       "      <td>11.724714</td>\n",
       "    </tr>\n",
       "    <tr>\n",
       "      <th>2016-01-31</th>\n",
       "      <td>11.315342</td>\n",
       "      <td>10.906989</td>\n",
       "      <td>11.723695</td>\n",
       "    </tr>\n",
       "    <tr>\n",
       "      <th>2016-02-01</th>\n",
       "      <td>11.311375</td>\n",
       "      <td>10.886043</td>\n",
       "      <td>11.736706</td>\n",
       "    </tr>\n",
       "    <tr>\n",
       "      <th>2016-02-02</th>\n",
       "      <td>11.309068</td>\n",
       "      <td>10.884096</td>\n",
       "      <td>11.734040</td>\n",
       "    </tr>\n",
       "    <tr>\n",
       "      <th>2016-02-03</th>\n",
       "      <td>11.304267</td>\n",
       "      <td>10.911088</td>\n",
       "      <td>11.697446</td>\n",
       "    </tr>\n",
       "    <tr>\n",
       "      <th>...</th>\n",
       "      <td>...</td>\n",
       "      <td>...</td>\n",
       "      <td>...</td>\n",
       "    </tr>\n",
       "    <tr>\n",
       "      <th>2021-12-27</th>\n",
       "      <td>11.264746</td>\n",
       "      <td>10.896912</td>\n",
       "      <td>11.632580</td>\n",
       "    </tr>\n",
       "    <tr>\n",
       "      <th>2021-12-28</th>\n",
       "      <td>11.263098</td>\n",
       "      <td>10.901156</td>\n",
       "      <td>11.625039</td>\n",
       "    </tr>\n",
       "    <tr>\n",
       "      <th>2021-12-29</th>\n",
       "      <td>11.264554</td>\n",
       "      <td>10.820980</td>\n",
       "      <td>11.708127</td>\n",
       "    </tr>\n",
       "    <tr>\n",
       "      <th>2021-12-30</th>\n",
       "      <td>11.269738</td>\n",
       "      <td>10.923241</td>\n",
       "      <td>11.616234</td>\n",
       "    </tr>\n",
       "    <tr>\n",
       "      <th>2021-12-31</th>\n",
       "      <td>11.272849</td>\n",
       "      <td>10.879544</td>\n",
       "      <td>11.666155</td>\n",
       "    </tr>\n",
       "  </tbody>\n",
       "</table>\n",
       "<p>2163 rows × 3 columns</p>\n",
       "</div>"
      ],
      "text/plain": [
       "            head forecast  95% lower  95% upper\n",
       "2016-01-30      11.319615  10.914517  11.724714\n",
       "2016-01-31      11.315342  10.906989  11.723695\n",
       "2016-02-01      11.311375  10.886043  11.736706\n",
       "2016-02-02      11.309068  10.884096  11.734040\n",
       "2016-02-03      11.304267  10.911088  11.697446\n",
       "...                   ...        ...        ...\n",
       "2021-12-27      11.264746  10.896912  11.632580\n",
       "2021-12-28      11.263098  10.901156  11.625039\n",
       "2021-12-29      11.264554  10.820980  11.708127\n",
       "2021-12-30      11.269738  10.923241  11.616234\n",
       "2021-12-31      11.272849  10.879544  11.666155\n",
       "\n",
       "[2163 rows x 3 columns]"
      ]
     },
     "execution_count": 15,
     "metadata": {},
     "output_type": "execute_result"
    }
   ],
   "source": [
    "final_df_test['head forecast'] = yhat_mean\n",
    "final_df_test['95% lower'] = T_ival_utf[0]\n",
    "final_df_test['95% upper'] = T_ival_utf[1]\n",
    "final_df_test"
   ]
  },
  {
   "cell_type": "code",
   "execution_count": 16,
   "id": "84672a23",
   "metadata": {},
   "outputs": [],
   "source": [
    "csv_file_path = 'D:/Arbeit PhD/Fachlich/z_Sonstiges/Groundwater challenge/submissions'\n",
    "chdir(csv_file_path)\n",
    "final_df_calib.to_csv('Netherlands_calib.csv', float_format='%.2f')\n",
    "final_df_test.to_csv('Netherlands_test.csv', float_format='%.2f')"
   ]
  },
  {
   "cell_type": "code",
   "execution_count": null,
   "id": "cde11836",
   "metadata": {},
   "outputs": [],
   "source": []
  },
  {
   "cell_type": "code",
   "execution_count": null,
   "id": "2e7593de",
   "metadata": {},
   "outputs": [],
   "source": []
  },
  {
   "cell_type": "code",
   "execution_count": null,
   "id": "4c383e48",
   "metadata": {},
   "outputs": [],
   "source": []
  },
  {
   "cell_type": "code",
   "execution_count": null,
   "id": "943825aa",
   "metadata": {},
   "outputs": [],
   "source": []
  }
 ],
 "metadata": {
  "kernelspec": {
   "display_name": "NN",
   "language": "python",
   "name": "python3"
  },
  "language_info": {
   "codemirror_mode": {
    "name": "ipython",
    "version": 3
   },
   "file_extension": ".py",
   "mimetype": "text/x-python",
   "name": "python",
   "nbconvert_exporter": "python",
   "pygments_lexer": "ipython3",
   "version": "3.8.8"
  },
  "vscode": {
   "interpreter": {
    "hash": "8362c94acb70529fb597ced4e020ad9ec7f0e835666f207c4442104931f7034b"
   }
  }
 },
 "nbformat": 4,
 "nbformat_minor": 5
}
