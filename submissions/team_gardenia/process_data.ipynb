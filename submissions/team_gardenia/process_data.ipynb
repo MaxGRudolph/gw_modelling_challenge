{
 "cells": [
  {
   "cell_type": "markdown",
   "id": "86426de4",
   "metadata": {},
   "source": [
    "# Process data from team_gardenia\n",
    "\n",
    "*R.A. Collenteur, February 2023*\n",
    "\n",
    "In this notebook I copied the xlsx data to the submission CSVs."
   ]
  },
  {
   "cell_type": "code",
   "execution_count": 1,
   "id": "b3f8bf09",
   "metadata": {},
   "outputs": [],
   "source": [
    "import pandas as pd"
   ]
  },
  {
   "cell_type": "markdown",
   "id": "73c15ff9",
   "metadata": {},
   "source": [
    "## 1. Import data"
   ]
  },
  {
   "cell_type": "code",
   "execution_count": 17,
   "id": "f4c830cd",
   "metadata": {},
   "outputs": [],
   "source": [
    "df = pd.read_excel(\"Resultats.xlsx\", sheet_name=None, usecols=[0,1], \n",
    "                   parse_dates=True, index_col=0)"
   ]
  },
  {
   "cell_type": "code",
   "execution_count": 18,
   "id": "6d861c12",
   "metadata": {},
   "outputs": [
    {
     "data": {
      "text/plain": [
       "dict_keys(['GER', 'NL', 'SW1', 'SW2', 'USA'])"
      ]
     },
     "execution_count": 18,
     "metadata": {},
     "output_type": "execute_result"
    }
   ],
   "source": [
    "df.keys()"
   ]
  },
  {
   "cell_type": "code",
   "execution_count": 19,
   "id": "ba33b14f",
   "metadata": {},
   "outputs": [],
   "source": [
    "names = {\n",
    "    'GER': 'Germany', \n",
    "    'NL': 'Netherlands', \n",
    "    'SW1': 'Sweden_1', \n",
    "    'SW2': 'Sweden_2', \n",
    "    'USA': 'USA',\n",
    "}"
   ]
  },
  {
   "cell_type": "markdown",
   "id": "18f82566",
   "metadata": {},
   "source": [
    "## 2. Move data to the CSV-files"
   ]
  },
  {
   "cell_type": "code",
   "execution_count": 40,
   "id": "a0f1a994",
   "metadata": {},
   "outputs": [
    {
     "name": "stdout",
     "output_type": "stream",
     "text": [
      "Germany\n",
      "Netherlands\n",
      "Sweden_1\n",
      "Sweden_2\n",
      "USA\n"
     ]
    }
   ],
   "source": [
    "for name, ts in df.items():\n",
    "    name = names[name]\n",
    "    fname = \"submission_form_{}.csv\".format(name)\n",
    "    csv = pd.read_csv(fname, index_col=0).squeeze()\n",
    "    csv.loc[csv.index.drop_duplicates(), \"Simulated Head\"] = ts.squeeze().loc[csv.index.drop_duplicates()]\n",
    "    csv.to_csv(fname)"
   ]
  }
 ],
 "metadata": {
  "kernelspec": {
   "display_name": "Python 3 (ipykernel)",
   "language": "python",
   "name": "python3"
  },
  "language_info": {
   "codemirror_mode": {
    "name": "ipython",
    "version": 3
   },
   "file_extension": ".py",
   "mimetype": "text/x-python",
   "name": "python",
   "nbconvert_exporter": "python",
   "pygments_lexer": "ipython3",
   "version": "3.10.5"
  }
 },
 "nbformat": 4,
 "nbformat_minor": 5
}
